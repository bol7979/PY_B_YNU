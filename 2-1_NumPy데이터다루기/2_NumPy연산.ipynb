{
 "cells": [
  {
   "cell_type": "code",
   "execution_count": 1,
   "metadata": {},
   "outputs": [],
   "source": [
    "import numpy as np"
   ]
  },
  {
   "cell_type": "code",
   "execution_count": 3,
   "metadata": {},
   "outputs": [
    {
     "name": "stdout",
     "output_type": "stream",
     "text": [
      "1\n"
     ]
    }
   ],
   "source": [
    "arr_1d = np.array([1, 2, 3, 4, 5])\n",
    "print(arr_1d[0])"
   ]
  },
  {
   "cell_type": "code",
   "execution_count": 4,
   "metadata": {},
   "outputs": [],
   "source": [
    "arr_2d = np.array([\n",
    "                    [1, 2, 3],\n",
    "                    [4, 5, 7],\n",
    "                    [6, 8, 9],\n",
    "                    [11, 17, 19]\n",
    "])"
   ]
  },
  {
   "cell_type": "code",
   "execution_count": 8,
   "metadata": {},
   "outputs": [
    {
     "name": "stdout",
     "output_type": "stream",
     "text": [
      "1\n",
      "1\n",
      "8\n"
     ]
    }
   ],
   "source": [
    "print(arr_2d[0,0])\n",
    "print(arr_2d[-4, -3])\n",
    "print(arr_2d[2, 1])"
   ]
  },
  {
   "cell_type": "code",
   "execution_count": 10,
   "metadata": {},
   "outputs": [
    {
     "name": "stdout",
     "output_type": "stream",
     "text": [
      "[1 2]\n",
      "[1 2 3 4 5]\n"
     ]
    }
   ],
   "source": [
    "arr_1d = np.array([1, 2, 3, 4, 5])\n",
    "\n",
    "print(arr_1d[0:2])\n",
    "print(arr_1d[:])"
   ]
  },
  {
   "cell_type": "code",
   "execution_count": 16,
   "metadata": {},
   "outputs": [
    {
     "name": "stdout",
     "output_type": "stream",
     "text": [
      "[1 1 2 7]\n",
      "[2 3 4]\n",
      "[1 1 2 7]\n"
     ]
    }
   ],
   "source": [
    "arr_2d = np.array([\n",
    "                    [1, 2, 3, 5],\n",
    "                    [1, 3, 5, 7],\n",
    "                    [2, 4, 6, 8],\n",
    "                    [7, 11, 13, 17]\n",
    "                ])\n",
    "\n",
    "# print(arr_2d[0:4])\n",
    "print(arr_2d[0:4, 0])\n",
    "print(arr_2d[0:3, 1])\n",
    "print(arr_2d[:4, 0])"
   ]
  },
  {
   "cell_type": "code",
   "execution_count": 20,
   "metadata": {},
   "outputs": [
    {
     "name": "stdout",
     "output_type": "stream",
     "text": [
      "[[1 2 3]\n",
      " [1 3 5]\n",
      " [2 4 6]]\n"
     ]
    }
   ],
   "source": [
    "print(arr_2d[0:3, 0:3])"
   ]
  },
  {
   "cell_type": "code",
   "execution_count": 21,
   "metadata": {},
   "outputs": [
    {
     "name": "stdout",
     "output_type": "stream",
     "text": [
      "[[1 3 5 7]\n",
      " [2 4 6 8]]\n"
     ]
    }
   ],
   "source": [
    "print(arr_2d[1:3, :])"
   ]
  },
  {
   "cell_type": "code",
   "execution_count": 22,
   "metadata": {},
   "outputs": [
    {
     "name": "stdout",
     "output_type": "stream",
     "text": [
      "[ 0  1  4 16 25]\n"
     ]
    }
   ],
   "source": [
    "arr = np.array([0, 1, -4, -16, 25])\n",
    "arr_abs = np.abs(arr)\n",
    "print(arr_abs)"
   ]
  },
  {
   "cell_type": "code",
   "execution_count": 23,
   "metadata": {},
   "outputs": [
    {
     "name": "stdout",
     "output_type": "stream",
     "text": [
      "[ 0.  1.  4. 16. 25.]\n"
     ]
    }
   ],
   "source": [
    "arr_fabs = np.fabs(arr)\n",
    "print(arr_fabs)"
   ]
  },
  {
   "cell_type": "code",
   "execution_count": 25,
   "metadata": {},
   "outputs": [
    {
     "name": "stdout",
     "output_type": "stream",
     "text": [
      "[  0   1  -4 -16  25]\n",
      "[ 0.  1. nan nan  5.]\n"
     ]
    },
    {
     "name": "stderr",
     "output_type": "stream",
     "text": [
      "C:\\Users\\as4761285 001\\AppData\\Local\\Temp\\ipykernel_8144\\1085780605.py:1: RuntimeWarning: invalid value encountered in sqrt\n",
      "  arr_sqrt = np.sqrt(arr)\n"
     ]
    }
   ],
   "source": [
    "arr_sqrt = np.sqrt(arr)\n",
    "print(arr)\n",
    "print(arr_sqrt)"
   ]
  },
  {
   "cell_type": "code",
   "execution_count": 26,
   "metadata": {},
   "outputs": [
    {
     "name": "stdout",
     "output_type": "stream",
     "text": [
      "[  0   1  -4 -16  25]\n",
      "[  0   1  16 256 625]\n"
     ]
    }
   ],
   "source": [
    "arr_square = np.square(arr)\n",
    "print(arr)\n",
    "print(arr_square)"
   ]
  },
  {
   "cell_type": "code",
   "execution_count": 28,
   "metadata": {},
   "outputs": [
    {
     "name": "stdout",
     "output_type": "stream",
     "text": [
      "[1.00000000e+00 2.71828183e+00 1.83156389e-02 1.12535175e-07\n",
      " 7.20048993e+10]\n"
     ]
    }
   ],
   "source": [
    "arr_exp = np.exp(arr)\n",
    "print(arr_exp)"
   ]
  },
  {
   "cell_type": "code",
   "execution_count": 32,
   "metadata": {},
   "outputs": [
    {
     "name": "stdout",
     "output_type": "stream",
     "text": [
      "[      -inf 0.                nan        nan 1.39794001]\n"
     ]
    },
    {
     "name": "stderr",
     "output_type": "stream",
     "text": [
      "C:\\Users\\as4761285 001\\AppData\\Local\\Temp\\ipykernel_8144\\1165559106.py:1: RuntimeWarning: divide by zero encountered in log10\n",
      "  arr_log10 = np.log10(arr)\n",
      "C:\\Users\\as4761285 001\\AppData\\Local\\Temp\\ipykernel_8144\\1165559106.py:1: RuntimeWarning: invalid value encountered in log10\n",
      "  arr_log10 = np.log10(arr)\n"
     ]
    }
   ],
   "source": [
    "arr_log10 = np.log10(arr)\n",
    "print(arr_log10)"
   ]
  },
  {
   "cell_type": "code",
   "execution_count": 34,
   "metadata": {},
   "outputs": [
    {
     "name": "stdout",
     "output_type": "stream",
     "text": [
      "[ 0  1 -1 -1  1]\n"
     ]
    }
   ],
   "source": [
    "arr_sign = np.sign(arr)\n",
    "print(arr_sign)"
   ]
  },
  {
   "cell_type": "code",
   "execution_count": 36,
   "metadata": {},
   "outputs": [
    {
     "name": "stdout",
     "output_type": "stream",
     "text": [
      "[ 1. -2.  3. -4.]\n"
     ]
    }
   ],
   "source": [
    "arr = np.array([1.15, -2.33, 3.457, -4.095])\n",
    "arr_round = np.round(arr)\n",
    "print(arr_round)"
   ]
  },
  {
   "cell_type": "code",
   "execution_count": 37,
   "metadata": {},
   "outputs": [
    {
     "name": "stdout",
     "output_type": "stream",
     "text": [
      "[ 1.2 -2.3  3.5 -4.1]\n"
     ]
    }
   ],
   "source": [
    "arr_round_1 = np.round(arr, 1)\n",
    "print(arr_round_1)"
   ]
  },
  {
   "cell_type": "code",
   "execution_count": 38,
   "metadata": {},
   "outputs": [
    {
     "name": "stdout",
     "output_type": "stream",
     "text": [
      "[ 2. -2.  4. -4.]\n"
     ]
    }
   ],
   "source": [
    "arr_round_c = np.ceil(arr)\n",
    "print(arr_round_c)"
   ]
  },
  {
   "cell_type": "code",
   "execution_count": 39,
   "metadata": {},
   "outputs": [
    {
     "name": "stdout",
     "output_type": "stream",
     "text": [
      "[ 1. -3.  3. -5.]\n"
     ]
    }
   ],
   "source": [
    "arr_floor = np.floor(arr)\n",
    "print(arr_floor)"
   ]
  },
  {
   "cell_type": "code",
   "execution_count": 40,
   "metadata": {},
   "outputs": [
    {
     "name": "stdout",
     "output_type": "stream",
     "text": [
      "[ 1. -2.  3. -4.]\n"
     ]
    }
   ],
   "source": [
    "arr_trunc = np.trunc(arr)\n",
    "print(arr_trunc)"
   ]
  },
  {
   "cell_type": "code",
   "execution_count": 42,
   "metadata": {},
   "outputs": [
    {
     "data": {
      "text/plain": [
       "array([0, 1, 2, 3, 4])"
      ]
     },
     "execution_count": 42,
     "metadata": {},
     "output_type": "execute_result"
    }
   ],
   "source": [
    "arr_1 = np.arange(5)\n",
    "arr_1"
   ]
  },
  {
   "cell_type": "code",
   "execution_count": 43,
   "metadata": {},
   "outputs": [
    {
     "name": "stdout",
     "output_type": "stream",
     "text": [
      "[1 3 5 7 9]\n"
     ]
    }
   ],
   "source": [
    "arr_2 = np.arange(1, 10, step = 2)\n",
    "print(arr_2)"
   ]
  },
  {
   "cell_type": "code",
   "execution_count": 45,
   "metadata": {},
   "outputs": [
    {
     "name": "stdout",
     "output_type": "stream",
     "text": [
      "[ 1  4  7 10 13]\n"
     ]
    }
   ],
   "source": [
    "arr_add_1 = np.add(arr_1, arr_2) #각 요소끼리 연산\n",
    "print(arr_add_1)"
   ]
  },
  {
   "cell_type": "code",
   "execution_count": 46,
   "metadata": {},
   "outputs": [
    {
     "name": "stdout",
     "output_type": "stream",
     "text": [
      "[ 1  4  7 10 13]\n"
     ]
    }
   ],
   "source": [
    "arr_add_2 = arr_1 + arr_2\n",
    "print(arr_add_2)"
   ]
  },
  {
   "cell_type": "code",
   "execution_count": 47,
   "metadata": {},
   "outputs": [
    {
     "name": "stdout",
     "output_type": "stream",
     "text": [
      "[-1 -2 -3 -4 -5]\n"
     ]
    }
   ],
   "source": [
    "arr_subtract_1 = np.subtract(arr_1, arr_2)\n",
    "print(arr_subtract_1)"
   ]
  },
  {
   "cell_type": "code",
   "execution_count": 48,
   "metadata": {},
   "outputs": [
    {
     "data": {
      "text/plain": [
       "array([-1, -2, -3, -4, -5])"
      ]
     },
     "execution_count": 48,
     "metadata": {},
     "output_type": "execute_result"
    }
   ],
   "source": [
    "arr_1 - arr_2"
   ]
  },
  {
   "cell_type": "code",
   "execution_count": 49,
   "metadata": {},
   "outputs": [
    {
     "data": {
      "text/plain": [
       "array([ 0,  3, 10, 21, 36])"
      ]
     },
     "execution_count": 49,
     "metadata": {},
     "output_type": "execute_result"
    }
   ],
   "source": [
    "arr_mul = np.multiply(arr_1, arr_2)\n",
    "arr_mul"
   ]
  },
  {
   "cell_type": "code",
   "execution_count": 50,
   "metadata": {},
   "outputs": [
    {
     "data": {
      "text/plain": [
       "array([0.        , 0.33333333, 0.4       , 0.42857143, 0.44444444])"
      ]
     },
     "execution_count": 50,
     "metadata": {},
     "output_type": "execute_result"
    }
   ],
   "source": [
    "arr_divide = np.divide(arr_1, arr_2)\n",
    "arr_divide"
   ]
  },
  {
   "cell_type": "code",
   "execution_count": 51,
   "metadata": {},
   "outputs": [
    {
     "data": {
      "text/plain": [
       "array([0.        , 0.33333333, 0.4       , 0.42857143, 0.44444444])"
      ]
     },
     "execution_count": 51,
     "metadata": {},
     "output_type": "execute_result"
    }
   ],
   "source": [
    "arr_1 / arr_2"
   ]
  },
  {
   "cell_type": "code",
   "execution_count": 52,
   "metadata": {},
   "outputs": [
    {
     "data": {
      "text/plain": [
       "array([0, 1, 2, 3, 4])"
      ]
     },
     "execution_count": 52,
     "metadata": {},
     "output_type": "execute_result"
    }
   ],
   "source": [
    "arr_mod = np.mod(arr_1, arr_2)\n",
    "arr_mod"
   ]
  },
  {
   "cell_type": "code",
   "execution_count": 53,
   "metadata": {},
   "outputs": [
    {
     "data": {
      "text/plain": [
       "array([0, 1, 2, 3, 4])"
      ]
     },
     "execution_count": 53,
     "metadata": {},
     "output_type": "execute_result"
    }
   ],
   "source": [
    "arr_1 % arr_2"
   ]
  },
  {
   "cell_type": "code",
   "execution_count": 54,
   "metadata": {},
   "outputs": [
    {
     "data": {
      "text/plain": [
       "array([     0,      1,     32,   2187, 262144])"
      ]
     },
     "execution_count": 54,
     "metadata": {},
     "output_type": "execute_result"
    }
   ],
   "source": [
    "np.power(arr_1, arr_2)"
   ]
  },
  {
   "cell_type": "code",
   "execution_count": 55,
   "metadata": {},
   "outputs": [
    {
     "data": {
      "text/plain": [
       "array([     0,      1,     32,   2187, 262144])"
      ]
     },
     "execution_count": 55,
     "metadata": {},
     "output_type": "execute_result"
    }
   ],
   "source": [
    "arr_1 ** arr_2"
   ]
  },
  {
   "cell_type": "code",
   "execution_count": 59,
   "metadata": {},
   "outputs": [
    {
     "name": "stdout",
     "output_type": "stream",
     "text": [
      "[1 2 3]\n",
      "(3,)\n"
     ]
    }
   ],
   "source": [
    "arr_1d_3 = np.array([1, 2, 3])\n",
    "print(arr_1d_3)\n",
    "print(arr_1d_3.shape)"
   ]
  },
  {
   "cell_type": "code",
   "execution_count": 60,
   "metadata": {},
   "outputs": [
    {
     "name": "stdout",
     "output_type": "stream",
     "text": [
      "[5]\n",
      "(1,)\n"
     ]
    }
   ],
   "source": [
    "arr_1d_1 = np.array([5])\n",
    "print(arr_1d_1)\n",
    "print(arr_1d_1.shape)"
   ]
  },
  {
   "cell_type": "code",
   "execution_count": 61,
   "metadata": {},
   "outputs": [
    {
     "name": "stdout",
     "output_type": "stream",
     "text": [
      "[6 7 8]\n"
     ]
    }
   ],
   "source": [
    "arr_add = arr_1d_3 + arr_1d_1\n",
    "print(arr_add)"
   ]
  },
  {
   "cell_type": "code",
   "execution_count": 62,
   "metadata": {},
   "outputs": [
    {
     "data": {
      "text/plain": [
       "array([[1, 4, 7],\n",
       "       [2, 5, 6],\n",
       "       [3, 6, 9]])"
      ]
     },
     "execution_count": 62,
     "metadata": {},
     "output_type": "execute_result"
    }
   ],
   "source": [
    "arr_2d_3x3 = np.array([\n",
    "                        [1, 4, 7],\n",
    "                        [2, 5, 6],\n",
    "                        [3, 6, 9]\n",
    "                    ])\n",
    "arr_2d_3x3"
   ]
  },
  {
   "cell_type": "code",
   "execution_count": 63,
   "metadata": {},
   "outputs": [
    {
     "data": {
      "text/plain": [
       "array([ 1,  0, -1])"
      ]
     },
     "execution_count": 63,
     "metadata": {},
     "output_type": "execute_result"
    }
   ],
   "source": [
    "arr_1d_3 = np.array([1, 0, -1])\n",
    "arr_1d_3"
   ]
  },
  {
   "cell_type": "code",
   "execution_count": 64,
   "metadata": {},
   "outputs": [
    {
     "name": "stdout",
     "output_type": "stream",
     "text": [
      "[[2 4 6]\n",
      " [3 5 5]\n",
      " [4 6 8]]\n"
     ]
    }
   ],
   "source": [
    "arr_add = arr_2d_3x3 + arr_1d_3\n",
    "print(arr_add)"
   ]
  },
  {
   "cell_type": "code",
   "execution_count": 66,
   "metadata": {},
   "outputs": [
    {
     "name": "stdout",
     "output_type": "stream",
     "text": [
      "[[1 2 3]]\n",
      "(1, 3)\n",
      "2\n"
     ]
    }
   ],
   "source": [
    "arr_2d_1x3 = np.array([[1, 2, 3]])\n",
    "print(arr_2d_1x3)\n",
    "print(arr_2d_1x3.shape) #1행 3열\n",
    "print(arr_2d_1x3.ndim) #2차원"
   ]
  },
  {
   "cell_type": "code",
   "execution_count": 68,
   "metadata": {},
   "outputs": [
    {
     "name": "stdout",
     "output_type": "stream",
     "text": [
      "[[ 1]\n",
      " [ 0]\n",
      " [-1]]\n",
      "(3, 1)\n",
      "2\n"
     ]
    }
   ],
   "source": [
    "arr_2d_3x1 = np.array([\n",
    "                        [1],\n",
    "                        [0],\n",
    "                        [-1]\n",
    "                    ])\n",
    "print(arr_2d_3x1)\n",
    "print(arr_2d_3x1.shape)\n",
    "print(arr_2d_3x1.ndim)"
   ]
  },
  {
   "cell_type": "code",
   "execution_count": 70,
   "metadata": {},
   "outputs": [
    {
     "name": "stdout",
     "output_type": "stream",
     "text": [
      "[[2 3 4]\n",
      " [1 2 3]\n",
      " [0 1 2]]\n"
     ]
    }
   ],
   "source": [
    "arr_2d_arr = arr_2d_1x3 + arr_2d_3x1\n",
    "print(arr_2d_arr)"
   ]
  },
  {
   "cell_type": "code",
   "execution_count": null,
   "metadata": {},
   "outputs": [],
   "source": []
  }
 ],
 "metadata": {
  "kernelspec": {
   "display_name": "Python 3",
   "language": "python",
   "name": "python3"
  },
  "language_info": {
   "codemirror_mode": {
    "name": "ipython",
    "version": 3
   },
   "file_extension": ".py",
   "mimetype": "text/x-python",
   "name": "python",
   "nbconvert_exporter": "python",
   "pygments_lexer": "ipython3",
   "version": "3.12.4"
  }
 },
 "nbformat": 4,
 "nbformat_minor": 2
}
